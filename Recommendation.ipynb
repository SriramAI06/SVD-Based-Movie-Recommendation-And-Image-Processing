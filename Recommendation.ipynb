{
 "cells": [
  {
   "cell_type": "code",
   "execution_count": 1,
   "id": "516cd1ec",
   "metadata": {},
   "outputs": [],
   "source": [
    "import numpy as np\n",
    "import pandas as pd"
   ]
  },
  {
   "cell_type": "code",
   "execution_count": 2,
   "id": "2585918b",
   "metadata": {},
   "outputs": [],
   "source": [
    "data = pd.io.parsers.read_csv('C://Users//srira//Downloads//Projects//Math//ml-1m//ml-1m//ratings.dat', \n",
    "    names=['user_id', 'movie_id', 'rating', 'time'],\n",
    "    engine='python', delimiter='::')"
   ]
  },
  {
   "cell_type": "code",
   "execution_count": 3,
   "id": "f932c794",
   "metadata": {},
   "outputs": [],
   "source": [
    "movie_data = pd.io.parsers.read_csv('C://Users//srira//Downloads//Projects//Math//ml-1m//ml-1m//movies.dat',\n",
    "    encoding = \"ISO-8859-1\",\n",
    "    names=['movie_id', 'title', 'genre'],\n",
    "    engine='python', delimiter='::')"
   ]
  },
  {
   "cell_type": "code",
   "execution_count": 5,
   "id": "72dab02a",
   "metadata": {},
   "outputs": [
    {
     "data": {
      "text/plain": [
       "array([5, 3, 3, ..., 5, 4, 4], dtype=uint8)"
      ]
     },
     "execution_count": 5,
     "metadata": {},
     "output_type": "execute_result"
    }
   ],
   "source": [
    "ratings_mat = np.ndarray(\n",
    "    shape=(np.max(data.movie_id.values), np.max(data.user_id.values)),\n",
    "    dtype=np.uint8)\n",
    "ratings_mat[data.movie_id.values-1, data.user_id.values-1] = data.rating.values\n",
    "ratings_mat[data.movie_id.values-1, data.user_id.values-1]"
   ]
  },
  {
   "cell_type": "code",
   "execution_count": 6,
   "id": "7db80ee5",
   "metadata": {},
   "outputs": [],
   "source": [
    "\n",
    "normalised_mat = ratings_mat - np.asarray([(np.mean(ratings_mat, 1))]).T"
   ]
  },
  {
   "cell_type": "code",
   "execution_count": 7,
   "id": "7653e045",
   "metadata": {},
   "outputs": [],
   "source": [
    "\n",
    "A = normalised_mat.T / np.sqrt(ratings_mat.shape[0] - 1)\n",
    "U, S, V = np.linalg.svd(A)\n"
   ]
  },
  {
   "cell_type": "code",
   "execution_count": 8,
   "id": "b7a52c8c",
   "metadata": {},
   "outputs": [],
   "source": [
    "def top_cosine_similarity(data, movie_id, top_n=10):\n",
    "    index = movie_id - 1 # Movie id starts from 1 in the dataset\n",
    "    movie_row = data[index, :]\n",
    "    magnitude = np.sqrt(np.einsum('ij, ij -> i', data, data))\n",
    "    similarity = np.dot(movie_row, data.T) / (magnitude[index] * magnitude)\n",
    "    sort_indexes = np.argsort(-similarity)\n",
    "    return sort_indexes[:top_n]"
   ]
  },
  {
   "cell_type": "code",
   "execution_count": 9,
   "id": "6a37c646",
   "metadata": {},
   "outputs": [],
   "source": [
    "def print_similar_movies(movie_data, movie_id, top_indexes):\n",
    "    print('Recommendations for {0}: \\n'.format(\n",
    "    movie_data[movie_data.movie_id == movie_id].title.values[0]))\n",
    "    for id in top_indexes + 1:\n",
    "        print(movie_data[movie_data.movie_id == id].title.values[0])"
   ]
  },
  {
   "cell_type": "code",
   "execution_count": 12,
   "id": "0342af08",
   "metadata": {},
   "outputs": [
    {
     "name": "stderr",
     "output_type": "stream",
     "text": [
      "C:\\Users\\srira\\AppData\\Local\\Temp/ipykernel_39072/3890564185.py:5: RuntimeWarning: invalid value encountered in true_divide\n",
      "  similarity = np.dot(movie_row, data.T) / (magnitude[index] * magnitude)\n"
     ]
    }
   ],
   "source": [
    "k = 50\n",
    "movie_id = 1 # (getting an id from movies.dat)\n",
    "top_n = 10\n",
    "sliced = V.T[:, :k] # representative data\n",
    "indexes = top_cosine_similarity(sliced, movie_id, top_n)"
   ]
  },
  {
   "cell_type": "code",
   "execution_count": 13,
   "id": "1825fda4",
   "metadata": {},
   "outputs": [
    {
     "name": "stdout",
     "output_type": "stream",
     "text": [
      "Recommendations for Toy Story (1995): \n",
      "\n",
      "Toy Story (1995)\n",
      "Toy Story 2 (1999)\n",
      "Babe (1995)\n",
      "Bug's Life, A (1998)\n",
      "Pleasantville (1998)\n",
      "Babe: Pig in the City (1998)\n",
      "Aladdin (1992)\n",
      "Stuart Little (1999)\n",
      "Secret Garden, The (1993)\n",
      "Tarzan (1999)\n"
     ]
    }
   ],
   "source": [
    "print_similar_movies(movie_data, movie_id, indexes)"
   ]
  },
  {
   "cell_type": "code",
   "execution_count": null,
   "id": "11baadb1",
   "metadata": {},
   "outputs": [],
   "source": []
  }
 ],
 "metadata": {
  "kernelspec": {
   "display_name": "Python 3 (ipykernel)",
   "language": "python",
   "name": "python3"
  },
  "language_info": {
   "codemirror_mode": {
    "name": "ipython",
    "version": 3
   },
   "file_extension": ".py",
   "mimetype": "text/x-python",
   "name": "python",
   "nbconvert_exporter": "python",
   "pygments_lexer": "ipython3",
   "version": "3.9.7"
  }
 },
 "nbformat": 4,
 "nbformat_minor": 5
}
